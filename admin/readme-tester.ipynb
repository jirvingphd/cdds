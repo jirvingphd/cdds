{
 "cells": [
  {
   "cell_type": "code",
   "execution_count": 12,
   "metadata": {},
   "outputs": [
    {
     "name": "stdout",
     "output_type": "stream",
     "text": [
      "# dojo-env-setup instructions\n",
      "\n",
      "- The instructions are split into 3 parts:\n",
      "\t- \"PART 1: INSTALLATION INSTRUCTIONS (DETAILED)\"\n",
      "\t- \"PART 2: SUMMARY INSTRUCTIONS\"\n",
      "\t- \"PART 3: TROUBLESHOOTING\"\n",
      "\n",
      "___\n",
      "\n",
      "## **PART 1: INSTALLATION INSTRUCTIONS (DETAILED)**\n",
      "\n",
      "### I. Install GitHub Desktop: https://desktop.github.com/\n",
      "- Open and log into git account.\n",
      "\t- Install git, if asked.\n",
      "\t\n",
      "### II. Install a Python Distribution:\n",
      "- **For Mac's with an Apple Chip:** use [miniforge](https://github.com/conda-forge/miniforge).\n",
      "\n",
      "\t- You will need to enter several commands into the Terminal app to install miniforge.\n",
      "\t\t- For both steps below, you may need to download several components, including:\n",
      "\t\t\t- You may need to run `xcode-select --install` and Agree to the license.\n",
      "\t- ***YOU SHOULD UNINSTALL ANACONDA IF YOU'VE PREVIOUSLY UNINSTALLED IT USING THE LINKED INSTRUCTIONS: https://docs.anaconda.com/anaconda/install/uninstall/***\n",
      "\t- 1. Install [homebrew](https://brew.sh/) by entering the following command into the Terminal\n"
     ]
    }
   ],
   "source": [
    "from IPython.display import Markdown\n",
    "\n",
    "with open(\"../cdds/files/dojo-env-setup.md\") as f:\n",
    "\tmd = f.read()\n",
    "\n",
    "print(md[:1000])"
   ]
  },
  {
   "cell_type": "code",
   "execution_count": 8,
   "metadata": {},
   "outputs": [
    {
     "data": {
      "text/plain": [
       "4"
      ]
     },
     "execution_count": 8,
     "metadata": {},
     "output_type": "execute_result"
    }
   ],
   "source": [
    "sections = md.split('__')\n",
    "len(sections)"
   ]
  },
  {
   "cell_type": "code",
   "execution_count": null,
   "metadata": {},
   "outputs": [],
   "source": []
  },
  {
   "cell_type": "code",
   "execution_count": 9,
   "metadata": {},
   "outputs": [
    {
     "data": {
      "text/plain": [
       "'_ \\n\\n\\n## Troubleshooting\\n\\n\\n### Reinstalling dojo-env\\n- Open Terminal/GitBash \\n- Run the following commands to deactivate & remove the dojo-env (note: does not remove Anaconda/miniforge):\\n\\n\\t- For Windows:\\n\\t\\t```bash\\n\\t\\tsource activate base\\n\\t\\tconda remove --name dojo-env --all\\n\\t\\ty\\n\\t\\t```\\n\\n\\t- For Macs:\\n\\t\\t```bash\\n\\t\\tconda activate base\\n\\t\\tconda remove --name dojo-env --all\\n\\t\\ty\\n\\t\\t```'"
      ]
     },
     "execution_count": 9,
     "metadata": {},
     "output_type": "execute_result"
    }
   ],
   "source": [
    "sections[-1]"
   ]
  },
  {
   "cell_type": "code",
   "execution_count": 17,
   "metadata": {},
   "outputs": [
    {
     "data": {
      "text/plain": [
       "1"
      ]
     },
     "execution_count": 17,
     "metadata": {},
     "output_type": "execute_result"
    }
   ],
   "source": [
    "summary_parts = [s for s in sections[1:] if \"summary\" in s.lower()]\n",
    "len(summary_parts)"
   ]
  },
  {
   "cell_type": "code",
   "execution_count": 18,
   "metadata": {},
   "outputs": [
    {
     "data": {
      "text/plain": [
       "'_\\n\\n## PART 2) SUMMARY INSTRUCTIONS\\n\\n### Summary of MacOS (With Apple Chip) Instructions:\\n- Install GitHub Desktop & Git: https://desktop.github.com/\\n- Install base Python (homebrew & miniforge):\\n\\t```bash\\n\\t/bin/bash -c \"$(curl -fsSL https://raw.githubusercontent.com/Homebrew/install/HEAD/install.sh)\"\\n\\t\\n\\tbrew install miniforge\\n\\tconda init zsh\\n\\t```\\n- Clone and create dojo-env from repo:\\n\\t```bash\\n\\tgit clone https://github.com/coding-dojo-data-science/dojo-env-setup\\n\\tcd dojo-env-setup\\n\\n\\tconda env create -f environment_mac_mchip.yml\\n\\t```\\n\\n- Activate dojo-env, install kernel, and set dojo-env to default:\\n\\t```bash\\n\\tconda activate dojo-env\\n\\tpython -m ipykernel install --user --name dojo-env --display-name \"Python (dojo-env)\"\\n\\t\\n\\ttouch $HOME/.zshrc\\n\\techo \"source activate dojo-env\" >> $HOME/.zshrc\\n\\techo \\'alias jnb=\"jupyter notebook\"\\' >> $HOME/.zshrc\\n\\t\\n\\tsource $HOME/.zshrc\\n\\t```\\n\\n### Summary of MacOS (With Intel Processor) Instructions\\n\\n- Install GitHub Desktop & Git: https://desktop.github.com/\\n- Install Base Python (Anaconda): https://www.anaconda.com/products/distribution\\n\\n- Clone and create dojo-env from repo:\\n\\t```bash\\n\\tgit clone https://github.com/coding-dojo-data-science/dojo-env-setup\\n\\tcd dojo-env-setup\\n\\t\\n\\tconda env create -f environment_mac_intel.yml\\n\\t```\\n\\t\\n- Activate dojo-env, install kernel, and set dojo-env to default:\\n\\t```bash\\n\\tconda activate dojo-env\\n\\tpython -m ipykernel install --user --name dojo-env --display-name \"Python (dojo-env)\"\\n\\t\\n\\ttouch $HOME/.zshrc\\n\\techo \"source activate dojo-env\" >> $HOME/.zshrc\\n\\techo \\'alias jnb=\"jupyter notebook\"\\' >> $HOME/.zshrc\\n\\t\\n\\tsource $HOME/.zshrc\\n\\t```\\n\\n### Summary of Windows Instructions\\n- Install GitHub Desktop & Git: https://desktop.github.com/\\n- Install Base Python (Anaconda): https://www.anaconda.com/products/distribution\\n\\n- Clone and create dojo-env from repo:\\n\\t```bash\\n\\tgit clone https://github.com/coding-dojo-data-science/dojo-env-setup\\n\\tcd dojo-env-setup\\n\\t\\n\\tconda env create -f environment_windows.yml\\n\\t```\\n\\t\\n- Activate dojo-env, install kernel, and set dojo-env to default:\\n\\t```bash\\n\\tsource activate dojo-env\\n\\tpython -m ipykernel install --user --name dojo-env --display-name \"Python (dojo-env)\"\\n\\t\\n\\ttouch $HOME/.bash_profile\\n\\techo \"source activate dojo-env\" >> $HOME/.bash_profile\\n\\techo \\'alias jnb=\"jupyter notebook\"\\' >> $HOME/.bash_profile\\n\\t\\n\\tsource ~/.bash_profile\\n\\t```\\n\\t\\n'"
      ]
     },
     "execution_count": 18,
     "metadata": {},
     "output_type": "execute_result"
    }
   ],
   "source": [
    "summary_parts[0]"
   ]
  },
  {
   "cell_type": "code",
   "execution_count": null,
   "metadata": {},
   "outputs": [],
   "source": []
  }
 ],
 "metadata": {
  "kernelspec": {
   "display_name": "Python 3.8.13 ('dojo-env')",
   "language": "python",
   "name": "python3"
  },
  "language_info": {
   "codemirror_mode": {
    "name": "ipython",
    "version": 3
   },
   "file_extension": ".py",
   "mimetype": "text/x-python",
   "name": "python",
   "nbconvert_exporter": "python",
   "pygments_lexer": "ipython3",
   "version": "3.8.13"
  },
  "orig_nbformat": 4,
  "vscode": {
   "interpreter": {
    "hash": "295804e8e014c2a214e7062c757c6b8addd86bbffb9090c97cdc9a271490da83"
   }
  }
 },
 "nbformat": 4,
 "nbformat_minor": 2
}
