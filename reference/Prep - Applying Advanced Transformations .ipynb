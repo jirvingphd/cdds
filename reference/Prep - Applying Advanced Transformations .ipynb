{
 "cells": [
  {
   "cell_type": "markdown",
   "id": "1fd58150",
   "metadata": {},
   "source": [
    "# Applying Advanced Transformations (Core)"
   ]
  },
  {
   "cell_type": "markdown",
   "id": "77c94bb0",
   "metadata": {},
   "source": [
    "- Idea: modified version of super hero dataset with all powers as a string\n",
    "\n",
    "https://www.kaggle.com/datasets/claudiodavi/superhero-set"
   ]
  },
  {
   "cell_type": "markdown",
   "id": "82aecc87",
   "metadata": {},
   "source": [
    "# INSTRUCTOR"
   ]
  },
  {
   "cell_type": "code",
   "execution_count": 1,
   "id": "7639716c",
   "metadata": {
    "ExecuteTime": {
     "end_time": "2022-04-07T23:08:09.456122Z",
     "start_time": "2022-04-07T23:08:07.939264Z"
    }
   },
   "outputs": [],
   "source": [
    "import pandas as pd\n",
    "import numpy as np\n",
    "import matplotlib.pyplot as plt\n",
    "import seaborn as sns"
   ]
  },
  {
   "cell_type": "markdown",
   "id": "22c6f8f6",
   "metadata": {},
   "source": [
    "## Potential Datasets"
   ]
  },
  {
   "cell_type": "markdown",
   "id": "9cf9d7db",
   "metadata": {},
   "source": [
    "- Super Heroes - modified\n",
    "- Yelp Results - Revisited?:\n",
    "    - Lat, Long, "
   ]
  },
  {
   "cell_type": "markdown",
   "id": "e64131df",
   "metadata": {},
   "source": [
    "## PREPARE DATASET - SUPER HEROES"
   ]
  },
  {
   "cell_type": "markdown",
   "id": "e5d004a1",
   "metadata": {},
   "source": [
    "- Design the student version to have a second table with a string version of the powers as a list (e.g. \"['Agility','Durability']\")\n",
    "- Change the \"name\" column in the heroes table to be a combo of the name and publisher columns\n",
    "- replace the individual columns for Height/Weight"
   ]
  },
  {
   "cell_type": "code",
   "execution_count": 2,
   "id": "cfedebae",
   "metadata": {
    "ExecuteTime": {
     "end_time": "2022-04-07T23:08:10.896588Z",
     "start_time": "2022-04-07T23:08:09.457473Z"
    }
   },
   "outputs": [
    {
     "name": "stdout",
     "output_type": "stream",
     "text": [
      "<class 'pandas.core.frame.DataFrame'>\n",
      "Int64Index: 734 entries, 0 to 733\n",
      "Data columns (total 10 columns):\n",
      " #   Column      Non-Null Count  Dtype  \n",
      "---  ------      --------------  -----  \n",
      " 0   name        734 non-null    object \n",
      " 1   Gender      705 non-null    object \n",
      " 2   Eye color   562 non-null    object \n",
      " 3   Race        430 non-null    object \n",
      " 4   Hair color  562 non-null    object \n",
      " 5   Height      517 non-null    float64\n",
      " 6   Publisher   719 non-null    object \n",
      " 7   Skin color  72 non-null     object \n",
      " 8   Alignment   727 non-null    object \n",
      " 9   Weight      495 non-null    float64\n",
      "dtypes: float64(2), object(8)\n",
      "memory usage: 63.1+ KB\n"
     ]
    },
    {
     "data": {
      "text/html": [
       "<div>\n",
       "<style scoped>\n",
       "    .dataframe tbody tr th:only-of-type {\n",
       "        vertical-align: middle;\n",
       "    }\n",
       "\n",
       "    .dataframe tbody tr th {\n",
       "        vertical-align: top;\n",
       "    }\n",
       "\n",
       "    .dataframe thead th {\n",
       "        text-align: right;\n",
       "    }\n",
       "</style>\n",
       "<table border=\"1\" class=\"dataframe\">\n",
       "  <thead>\n",
       "    <tr style=\"text-align: right;\">\n",
       "      <th></th>\n",
       "      <th>name</th>\n",
       "      <th>Gender</th>\n",
       "      <th>Eye color</th>\n",
       "      <th>Race</th>\n",
       "      <th>Hair color</th>\n",
       "      <th>Height</th>\n",
       "      <th>Publisher</th>\n",
       "      <th>Skin color</th>\n",
       "      <th>Alignment</th>\n",
       "      <th>Weight</th>\n",
       "    </tr>\n",
       "  </thead>\n",
       "  <tbody>\n",
       "    <tr>\n",
       "      <th>0</th>\n",
       "      <td>A-Bomb</td>\n",
       "      <td>Male</td>\n",
       "      <td>yellow</td>\n",
       "      <td>Human</td>\n",
       "      <td>No Hair</td>\n",
       "      <td>203.0</td>\n",
       "      <td>Marvel Comics</td>\n",
       "      <td>NaN</td>\n",
       "      <td>good</td>\n",
       "      <td>441.0</td>\n",
       "    </tr>\n",
       "    <tr>\n",
       "      <th>1</th>\n",
       "      <td>Abe Sapien</td>\n",
       "      <td>Male</td>\n",
       "      <td>blue</td>\n",
       "      <td>Icthyo Sapien</td>\n",
       "      <td>No Hair</td>\n",
       "      <td>191.0</td>\n",
       "      <td>Dark Horse Comics</td>\n",
       "      <td>blue</td>\n",
       "      <td>good</td>\n",
       "      <td>65.0</td>\n",
       "    </tr>\n",
       "  </tbody>\n",
       "</table>\n",
       "</div>"
      ],
      "text/plain": [
       "         name Gender Eye color           Race Hair color  Height  \\\n",
       "0      A-Bomb   Male    yellow          Human    No Hair   203.0   \n",
       "1  Abe Sapien   Male      blue  Icthyo Sapien    No Hair   191.0   \n",
       "\n",
       "           Publisher Skin color Alignment  Weight  \n",
       "0      Marvel Comics        NaN      good   441.0  \n",
       "1  Dark Horse Comics       blue      good    65.0  "
      ]
     },
     "execution_count": 2,
     "metadata": {},
     "output_type": "execute_result"
    }
   ],
   "source": [
    "heroes = pd.read_csv(\"https://docs.google.com/spreadsheets/d/e/2PACX-1vSfpo_ajaImuSJFMrLLVtZhUSzJusEVXGzPxyIixTQydVouT1RMuOZHI-ej3pTHOMPYQRWJM1j2wN8P/pub?output=csv\",\n",
    "                    index_col=0,\n",
    "                    na_values=['-',-99])\n",
    "heroes.info()\n",
    "heroes.head(2)"
   ]
  },
  {
   "cell_type": "code",
   "execution_count": 3,
   "id": "7f894150",
   "metadata": {
    "ExecuteTime": {
     "end_time": "2022-04-07T23:08:11.149454Z",
     "start_time": "2022-04-07T23:08:10.898093Z"
    }
   },
   "outputs": [
    {
     "data": {
      "text/plain": [
       "<matplotlib.axes._subplots.AxesSubplot at 0x7fb5e8b47a90>"
      ]
     },
     "execution_count": 3,
     "metadata": {},
     "output_type": "execute_result"
    },
    {
     "data": {
      "image/png": "[encoded data removed]",
      "text/plain": [
       "<Figure size 1800x720 with 2 Axes>"
      ]
     },
     "metadata": {
      "needs_background": "light"
     },
     "output_type": "display_data"
    }
   ],
   "source": [
    "import missingno as ms\n",
    "ms.matrix(heroes)"
   ]
  },
  {
   "cell_type": "code",
   "execution_count": 4,
   "id": "21571dfc",
   "metadata": {
    "ExecuteTime": {
     "end_time": "2022-04-07T23:08:11.158167Z",
     "start_time": "2022-04-07T23:08:11.151921Z"
    }
   },
   "outputs": [
    {
     "name": "stdout",
     "output_type": "stream",
     "text": [
      "<class 'pandas.core.frame.DataFrame'>\n",
      "Int64Index: 490 entries, 0 to 733\n",
      "Data columns (total 10 columns):\n",
      " #   Column      Non-Null Count  Dtype  \n",
      "---  ------      --------------  -----  \n",
      " 0   name        490 non-null    object \n",
      " 1   Gender      476 non-null    object \n",
      " 2   Eye color   471 non-null    object \n",
      " 3   Race        323 non-null    object \n",
      " 4   Hair color  470 non-null    object \n",
      " 5   Height      490 non-null    float64\n",
      " 6   Publisher   489 non-null    object \n",
      " 7   Skin color  54 non-null     object \n",
      " 8   Alignment   487 non-null    object \n",
      " 9   Weight      490 non-null    float64\n",
      "dtypes: float64(2), object(8)\n",
      "memory usage: 42.1+ KB\n"
     ]
    }
   ],
   "source": [
    "heroes = heroes.dropna(subset=['Height','Weight'])\n",
    "heroes.info()"
   ]
  },
  {
   "cell_type": "code",
   "execution_count": 5,
   "id": "94ad194f",
   "metadata": {
    "ExecuteTime": {
     "end_time": "2022-04-07T23:08:11.163427Z",
     "start_time": "2022-04-07T23:08:11.159631Z"
    }
   },
   "outputs": [
    {
     "data": {
      "text/plain": [
       "name            0\n",
       "Gender         14\n",
       "Eye color      19\n",
       "Race          167\n",
       "Hair color     20\n",
       "Height          0\n",
       "Publisher       1\n",
       "Skin color    436\n",
       "Alignment       3\n",
       "Weight          0\n",
       "dtype: int64"
      ]
     },
     "execution_count": 5,
     "metadata": {},
     "output_type": "execute_result"
    }
   ],
   "source": [
    "heroes.isna().sum()"
   ]
  },
  {
   "cell_type": "code",
   "execution_count": 6,
   "id": "39a6b7e4",
   "metadata": {
    "ExecuteTime": {
     "end_time": "2022-04-07T23:08:11.367737Z",
     "start_time": "2022-04-07T23:08:11.164611Z"
    }
   },
   "outputs": [
    {
     "data": {
      "text/plain": [
       "<matplotlib.axes._subplots.AxesSubplot at 0x7fb6282e8810>"
      ]
     },
     "execution_count": 6,
     "metadata": {},
     "output_type": "execute_result"
    },
    {
     "data": {
      "image/png": "[encoded data removed]",
      "text/plain": [
       "<Figure size 1800x720 with 2 Axes>"
      ]
     },
     "metadata": {
      "needs_background": "light"
     },
     "output_type": "display_data"
    }
   ],
   "source": [
    "ms.matrix(heroes)"
   ]
  },
  {
   "cell_type": "markdown",
   "id": "bc070ec2",
   "metadata": {},
   "source": [
    "### Instruction Prep Steps"
   ]
  },
  {
   "cell_type": "code",
   "execution_count": 7,
   "id": "1bea8f35",
   "metadata": {
    "ExecuteTime": {
     "end_time": "2022-04-07T23:08:11.372604Z",
     "start_time": "2022-04-07T23:08:11.369118Z"
    }
   },
   "outputs": [
    {
     "name": "stdout",
     "output_type": "stream",
     "text": [
      "- name\n",
      "- Gender\n",
      "- Eye color\n",
      "- Race\n",
      "- Hair color\n",
      "- Height\n",
      "- Publisher\n",
      "- Skin color\n",
      "- Alignment\n",
      "- Weight\n"
     ]
    },
    {
     "data": {
      "text/plain": [
       "[None, None, None, None, None, None, None, None, None, None]"
      ]
     },
     "execution_count": 7,
     "metadata": {},
     "output_type": "execute_result"
    }
   ],
   "source": [
    "## printing column names for easy copy/paste to instructions\n",
    "[print(f\"- {col}\") for col in heroes.columns]"
   ]
  },
  {
   "cell_type": "code",
   "execution_count": 8,
   "id": "2cea1796",
   "metadata": {
    "ExecuteTime": {
     "end_time": "2022-04-07T23:08:11.379593Z",
     "start_time": "2022-04-07T23:08:11.373606Z"
    }
   },
   "outputs": [
    {
     "data": {
      "text/plain": [
       "name          482\n",
       "Gender          2\n",
       "Eye color      20\n",
       "Race           51\n",
       "Hair color     28\n",
       "Height         48\n",
       "Publisher       9\n",
       "Skin color     13\n",
       "Alignment       3\n",
       "Weight        131\n",
       "dtype: int64"
      ]
     },
     "execution_count": 8,
     "metadata": {},
     "output_type": "execute_result"
    }
   ],
   "source": [
    "heroes.nunique()"
   ]
  },
  {
   "cell_type": "code",
   "execution_count": 9,
   "id": "a4f38fdd",
   "metadata": {
    "ExecuteTime": {
     "end_time": "2022-04-07T23:08:11.383728Z",
     "start_time": "2022-04-07T23:08:11.380582Z"
    }
   },
   "outputs": [
    {
     "data": {
      "text/plain": [
       "good       332\n",
       "bad        138\n",
       "neutral     17\n",
       "Name: Alignment, dtype: int64"
      ]
     },
     "execution_count": 9,
     "metadata": {},
     "output_type": "execute_result"
    }
   ],
   "source": [
    "## what are the alignments?\n",
    "heroes['Alignment'].value_counts()"
   ]
  },
  {
   "cell_type": "code",
   "execution_count": null,
   "id": "ffb2becb",
   "metadata": {
    "ExecuteTime": {
     "start_time": "2022-04-07T23:08:07.953Z"
    }
   },
   "outputs": [],
   "source": [
    "powers = pd.read_csv('https://docs.google.com/spreadsheets/d/e/2PACX-1vTNQWUWJ45vlwSBMkUHeHcquRedO9hM-eh6JqPQ2i5-DASpG1DV6dzxGvoeoiT-zvyzWVbTYgmE8bmV/pub?output=csv',\n",
    "#                     index_col=0\n",
    "                    )\n",
    "powers.head(2)"
   ]
  },
  {
   "cell_type": "code",
   "execution_count": null,
   "id": "c5b506d4",
   "metadata": {
    "ExecuteTime": {
     "start_time": "2022-04-07T23:08:07.956Z"
    }
   },
   "outputs": [],
   "source": [
    "## what heroes aren't in both?\n",
    "heroes[~heroes['name'].isin(powers['hero_names'])]"
   ]
  },
  {
   "cell_type": "code",
   "execution_count": null,
   "id": "28b4a345",
   "metadata": {
    "ExecuteTime": {
     "start_time": "2022-04-07T23:08:07.959Z"
    }
   },
   "outputs": [],
   "source": [
    "## drop hereos that aren't in powers\n",
    "\n",
    "heroes = heroes[heroes['name'].isin(powers['hero_names'])]\n",
    "heroes"
   ]
  },
  {
   "cell_type": "markdown",
   "id": "3aa2fc08",
   "metadata": {},
   "source": [
    "### Modify Dataset"
   ]
  },
  {
   "cell_type": "code",
   "execution_count": null,
   "id": "2d3fd018",
   "metadata": {
    "ExecuteTime": {
     "start_time": "2022-04-07T23:08:07.961Z"
    }
   },
   "outputs": [],
   "source": [
    "## adding strings to numeric columsn to replace\n",
    "heroes['Weight'] = heroes['Weight'].astype(str) + \" kg\"\n",
    "heroes['Height'] = heroes['Height'].astype(str) + \" cm\"\n",
    "heroes"
   ]
  },
  {
   "cell_type": "code",
   "execution_count": null,
   "id": "741b9a04",
   "metadata": {
    "ExecuteTime": {
     "start_time": "2022-04-07T23:08:07.962Z"
    }
   },
   "outputs": [],
   "source": [
    "heroes = heroes.fillna('Unknown')"
   ]
  },
  {
   "cell_type": "markdown",
   "id": "c9c11cfa",
   "metadata": {},
   "source": [
    "#### Merge Name and Publisher"
   ]
  },
  {
   "cell_type": "markdown",
   "id": "3c83e06c",
   "metadata": {},
   "source": [
    "- Make Gender, Race, Alignment into 1 dict col\n",
    "- Make Height, Weight into 2nd dict col\n",
    "- Make eye color, hair color, skin color into 3rd dict"
   ]
  },
  {
   "cell_type": "code",
   "execution_count": null,
   "id": "cde0ed5c",
   "metadata": {
    "ExecuteTime": {
     "start_time": "2022-04-07T23:08:07.964Z"
    }
   },
   "outputs": [],
   "source": [
    "# row = heroes.loc[0]\n",
    "# row"
   ]
  },
  {
   "cell_type": "code",
   "execution_count": null,
   "id": "f05c1b67",
   "metadata": {
    "ExecuteTime": {
     "start_time": "2022-04-07T23:08:07.965Z"
    }
   },
   "outputs": [],
   "source": [
    "# cat_cols = ['Gender','Race', 'Alignment']\n",
    "\n",
    "# cat_dict = {}\n",
    "# for col in cat_cols:\n",
    "#     cat_dict[col] = row[col]\n",
    "# cat_dict"
   ]
  },
  {
   "cell_type": "code",
   "execution_count": null,
   "id": "cb268819",
   "metadata": {
    "ExecuteTime": {
     "start_time": "2022-04-07T23:08:07.967Z"
    }
   },
   "outputs": [],
   "source": [
    "# color_cols = ['Hair color','Eye color','Skin color']\n",
    "\n",
    "# color_dict = {}\n",
    "# for col in color_cols:\n",
    "#     color_dict[col] = row[col]\n",
    "# color_dict"
   ]
  },
  {
   "cell_type": "code",
   "execution_count": null,
   "id": "dcb45efb",
   "metadata": {
    "ExecuteTime": {
     "start_time": "2022-04-07T23:08:07.968Z"
    }
   },
   "outputs": [],
   "source": [
    "# measurement_cols = ['Height','Weight']\n",
    "\n",
    "# measures_dict = {}\n",
    "# for col in measurement_cols:\n",
    "#     measures_dict[col] = row[col]\n",
    "# measures_dict"
   ]
  },
  {
   "cell_type": "code",
   "execution_count": null,
   "id": "b80e33ee",
   "metadata": {
    "ExecuteTime": {
     "start_time": "2022-04-07T23:08:07.969Z"
    }
   },
   "outputs": [],
   "source": [
    "# hero_out = pd.Series({'Categories':cat_dict,\n",
    "#           'Colors':color_dict,\n",
    "#           'Measurements':measures_dict})\n",
    "# hero_out"
   ]
  },
  {
   "cell_type": "code",
   "execution_count": null,
   "id": "f3658ee6",
   "metadata": {
    "ExecuteTime": {
     "start_time": "2022-04-07T23:08:07.970Z"
    }
   },
   "outputs": [],
   "source": [
    "def convert_hero_row(row):\n",
    "#     cat_cols = [\"Gender\",\"Race\", \"Alignment\"]\n",
    "#     cat_dict = {}\n",
    "#     for col in cat_cols:\n",
    "#         cat_dict[col] = row[col]\n",
    "    \n",
    "    \n",
    "#     color_cols = [\"Hair color\",\"Eye color\",\"Skin color\"]\n",
    "#     color_dict = {}\n",
    "#     for col in color_cols:\n",
    "#         color_dict[col] = row[col]\n",
    "\n",
    "    measurement_cols = [\"Height\",\"Weight\"]\n",
    "    measures_dict = {}\n",
    "    for col in measurement_cols:\n",
    "        measures_dict[col] = row[col]\n",
    "     \n",
    "    copy_cols = [\"name\",\"Publisher\",\"Gender\",\"Race\", \"Alignment\",\n",
    "                 \"Hair color\",\"Eye color\",\"Skin color\"]\n",
    "    series_dict = {col: row[col] for col in copy_cols}\n",
    "#     series_dict['Colors'] = color_dict\n",
    "    series_dict['Measurements'] = measures_dict\n",
    "    return pd.Series(series_dict)\n",
    "    \n",
    "    "
   ]
  },
  {
   "cell_type": "code",
   "execution_count": null,
   "id": "80630211",
   "metadata": {
    "ExecuteTime": {
     "start_time": "2022-04-07T23:08:07.972Z"
    }
   },
   "outputs": [],
   "source": [
    "heroes_df = heroes.apply(convert_hero_row, axis=1)\n",
    "heroes_df"
   ]
  },
  {
   "cell_type": "code",
   "execution_count": null,
   "id": "0956862a",
   "metadata": {
    "ExecuteTime": {
     "start_time": "2022-04-07T23:08:07.974Z"
    }
   },
   "outputs": [],
   "source": [
    "heroes_df['Hero|Publisher'] = heroes_df['name'] + '|' + heroes['Publisher']\n",
    "heroes_df"
   ]
  },
  {
   "cell_type": "code",
   "execution_count": null,
   "id": "6b13620e",
   "metadata": {
    "ExecuteTime": {
     "start_time": "2022-04-07T23:08:07.976Z"
    }
   },
   "outputs": [],
   "source": [
    "heroes_df = heroes_df.drop(columns=['name','Publisher'])\n",
    "heroes_df = heroes_df[['Hero|Publisher',*heroes_df.drop(columns='Hero|Publisher').columns]]\n",
    "heroes_df"
   ]
  },
  {
   "cell_type": "markdown",
   "id": "146a983d",
   "metadata": {},
   "source": [
    "#### Convert OHE powers into a list of strings."
   ]
  },
  {
   "cell_type": "code",
   "execution_count": null,
   "id": "26c7152a",
   "metadata": {
    "ExecuteTime": {
     "start_time": "2022-04-07T23:08:07.978Z"
    }
   },
   "outputs": [],
   "source": [
    "powers"
   ]
  },
  {
   "cell_type": "code",
   "execution_count": null,
   "id": "e71fe6a6",
   "metadata": {
    "ExecuteTime": {
     "start_time": "2022-04-07T23:08:07.980Z"
    }
   },
   "outputs": [],
   "source": [
    "# test hero\n",
    "hero_row = powers.drop(columns='hero_names').loc[0]\n",
    "hero_row"
   ]
  },
  {
   "cell_type": "code",
   "execution_count": null,
   "id": "0303de40",
   "metadata": {},
   "outputs": [],
   "source": [
    "# filter only where power==True and then join the index\n",
    "','.join(hero_row[hero_row].index)"
   ]
  },
  {
   "cell_type": "code",
   "execution_count": null,
   "id": "f2fe9f38",
   "metadata": {
    "ExecuteTime": {
     "start_time": "2022-04-07T23:08:07.981Z"
    }
   },
   "outputs": [],
   "source": [
    "# filter only where power==True and then join the index\n",
    "','.join(hero_row[hero_row].index)"
   ]
  },
  {
   "cell_type": "code",
   "execution_count": 29,
   "id": "f7efdd6d",
   "metadata": {
    "ExecuteTime": {
     "end_time": "2022-04-07T00:21:38.731756Z",
     "start_time": "2022-04-07T00:21:38.639743Z"
    }
   },
   "outputs": [
    {
     "data": {
      "text/html": [
       "<div>\n",
       "<style scoped>\n",
       "    .dataframe tbody tr th:only-of-type {\n",
       "        vertical-align: middle;\n",
       "    }\n",
       "\n",
       "    .dataframe tbody tr th {\n",
       "        vertical-align: top;\n",
       "    }\n",
       "\n",
       "    .dataframe thead th {\n",
       "        text-align: right;\n",
       "    }\n",
       "</style>\n",
       "<table border=\"1\" class=\"dataframe\">\n",
       "  <thead>\n",
       "    <tr style=\"text-align: right;\">\n",
       "      <th></th>\n",
       "      <th>hero_names</th>\n",
       "      <th>Powers</th>\n",
       "    </tr>\n",
       "  </thead>\n",
       "  <tbody>\n",
       "    <tr>\n",
       "      <th>0</th>\n",
       "      <td>3-D Man</td>\n",
       "      <td>Agility,Super Strength,Stamina,Super Speed</td>\n",
       "    </tr>\n",
       "    <tr>\n",
       "      <th>1</th>\n",
       "      <td>A-Bomb</td>\n",
       "      <td>Accelerated Healing,Durability,Longevity,Super...</td>\n",
       "    </tr>\n",
       "    <tr>\n",
       "      <th>2</th>\n",
       "      <td>Abe Sapien</td>\n",
       "      <td>Agility,Accelerated Healing,Cold Resistance,Du...</td>\n",
       "    </tr>\n",
       "    <tr>\n",
       "      <th>3</th>\n",
       "      <td>Abin Sur</td>\n",
       "      <td>Lantern Power Ring</td>\n",
       "    </tr>\n",
       "    <tr>\n",
       "      <th>4</th>\n",
       "      <td>Abomination</td>\n",
       "      <td>Accelerated Healing,Intelligence,Super Strengt...</td>\n",
       "    </tr>\n",
       "    <tr>\n",
       "      <th>...</th>\n",
       "      <td>...</td>\n",
       "      <td>...</td>\n",
       "    </tr>\n",
       "    <tr>\n",
       "      <th>662</th>\n",
       "      <td>Yellowjacket II</td>\n",
       "      <td>Flight,Energy Blasts,Size Changing</td>\n",
       "    </tr>\n",
       "    <tr>\n",
       "      <th>663</th>\n",
       "      <td>Ymir</td>\n",
       "      <td>Cold Resistance,Durability,Longevity,Super Str...</td>\n",
       "    </tr>\n",
       "    <tr>\n",
       "      <th>664</th>\n",
       "      <td>Yoda</td>\n",
       "      <td>Agility,Stealth,Danger Sense,Marksmanship,Weap...</td>\n",
       "    </tr>\n",
       "    <tr>\n",
       "      <th>665</th>\n",
       "      <td>Zatanna</td>\n",
       "      <td>Cryokinesis,Telepathy,Magic,Fire Control,Proba...</td>\n",
       "    </tr>\n",
       "    <tr>\n",
       "      <th>666</th>\n",
       "      <td>Zoom</td>\n",
       "      <td>Super Speed,Intangibility,Time Travel,Time Man...</td>\n",
       "    </tr>\n",
       "  </tbody>\n",
       "</table>\n",
       "<p>667 rows × 2 columns</p>\n",
       "</div>"
      ],
      "text/plain": [
       "          hero_names                                             Powers\n",
       "0            3-D Man         Agility,Super Strength,Stamina,Super Speed\n",
       "1             A-Bomb  Accelerated Healing,Durability,Longevity,Super...\n",
       "2         Abe Sapien  Agility,Accelerated Healing,Cold Resistance,Du...\n",
       "3           Abin Sur                                 Lantern Power Ring\n",
       "4        Abomination  Accelerated Healing,Intelligence,Super Strengt...\n",
       "..               ...                                                ...\n",
       "662  Yellowjacket II                 Flight,Energy Blasts,Size Changing\n",
       "663             Ymir  Cold Resistance,Durability,Longevity,Super Str...\n",
       "664             Yoda  Agility,Stealth,Danger Sense,Marksmanship,Weap...\n",
       "665          Zatanna  Cryokinesis,Telepathy,Magic,Fire Control,Proba...\n",
       "666             Zoom  Super Speed,Intangibility,Time Travel,Time Man...\n",
       "\n",
       "[667 rows x 2 columns]"
      ]
     },
     "execution_count": 29,
     "metadata": {},
     "output_type": "execute_result"
    }
   ],
   "source": [
    "## save vers of powers wiht a lsit of strings as the Powers col\n",
    "powers_df = powers.set_index('hero_names').apply(lambda row: ','.join(row[row==True].index),\n",
    "                          axis=1).reset_index()\n",
    "powers_df = powers_df.rename({0:'Powers'},axis=1)\n",
    "# powers_df['Powers'] = powers_df['Powers'].astype(str)\n",
    "powers_df"
   ]
  },
  {
   "cell_type": "markdown",
   "id": "d083711a",
   "metadata": {},
   "source": [
    "### Replacing hero_names with an integer id"
   ]
  },
  {
   "cell_type": "code",
   "execution_count": 30,
   "id": "5feb9a02",
   "metadata": {
    "ExecuteTime": {
     "end_time": "2022-04-07T00:21:40.166887Z",
     "start_time": "2022-04-07T00:21:40.161850Z"
    }
   },
   "outputs": [],
   "source": [
    "# ## generate dict of hero names > i ds\n",
    "# names = powers_df['hero_names'].sample(frac=1,replace=False)\n",
    "# names_map = dict(zip(names, range(1,len(names)+1)))"
   ]
  },
  {
   "cell_type": "code",
   "execution_count": 31,
   "id": "f69f323b",
   "metadata": {
    "ExecuteTime": {
     "end_time": "2022-04-07T00:21:40.381371Z",
     "start_time": "2022-04-07T00:21:40.375993Z"
    }
   },
   "outputs": [],
   "source": [
    "# names_df = pd.DataFrame({ \"Hero_ID\":names_map.values(),\n",
    "#                          'Hero_Name': names_map.keys()})\n",
    "# names_df"
   ]
  },
  {
   "cell_type": "code",
   "execution_count": 32,
   "id": "fe92fa65",
   "metadata": {
    "ExecuteTime": {
     "end_time": "2022-04-07T00:21:40.584461Z",
     "start_time": "2022-04-07T00:21:40.580087Z"
    }
   },
   "outputs": [],
   "source": [
    "# powers_df['hero_id'] = powers_df['hero_names'].map(names_map)\n",
    "# powers_df = powers_df.drop(columns=['hero_names'])\n",
    "# powers_df = powers_df[['hero_id','Powers']]\n",
    "# powers_df"
   ]
  },
  {
   "cell_type": "markdown",
   "id": "247e8f1c",
   "metadata": {
    "ExecuteTime": {
     "end_time": "2022-04-06T21:57:24.193715Z",
     "start_time": "2022-04-06T21:57:24.191652Z"
    }
   },
   "source": [
    "### Save final datasets"
   ]
  },
  {
   "cell_type": "code",
   "execution_count": 33,
   "id": "9e5d6902",
   "metadata": {
    "ExecuteTime": {
     "end_time": "2022-04-07T00:21:41.173731Z",
     "start_time": "2022-04-07T00:21:41.167925Z"
    }
   },
   "outputs": [],
   "source": [
    "import os\n",
    "folder = \"Superheroes_Core/\"\n",
    "os.makedirs(folder,exist_ok=True)\n"
   ]
  },
  {
   "cell_type": "code",
   "execution_count": 34,
   "id": "dbca2d18",
   "metadata": {
    "ExecuteTime": {
     "end_time": "2022-04-07T00:21:41.772921Z",
     "start_time": "2022-04-07T00:21:41.766888Z"
    }
   },
   "outputs": [],
   "source": [
    "# ## save names_df to csv\n",
    "# names_df.to_csv(f\"{folder}superhero_names.csv\",index=False)\n",
    "# df_names = pd.read_csv(f\"{folder}superhero_names.csv\")\n",
    "# df_names"
   ]
  },
  {
   "cell_type": "code",
   "execution_count": 35,
   "id": "58ff6e25",
   "metadata": {
    "ExecuteTime": {
     "end_time": "2022-04-07T00:21:42.011377Z",
     "start_time": "2022-04-07T00:21:41.983290Z"
    }
   },
   "outputs": [
    {
     "data": {
      "text/html": [
       "<div>\n",
       "<style scoped>\n",
       "    .dataframe tbody tr th:only-of-type {\n",
       "        vertical-align: middle;\n",
       "    }\n",
       "\n",
       "    .dataframe tbody tr th {\n",
       "        vertical-align: top;\n",
       "    }\n",
       "\n",
       "    .dataframe thead th {\n",
       "        text-align: right;\n",
       "    }\n",
       "</style>\n",
       "<table border=\"1\" class=\"dataframe\">\n",
       "  <thead>\n",
       "    <tr style=\"text-align: right;\">\n",
       "      <th></th>\n",
       "      <th>Hero|Publisher</th>\n",
       "      <th>Gender</th>\n",
       "      <th>Race</th>\n",
       "      <th>Alignment</th>\n",
       "      <th>Hair color</th>\n",
       "      <th>Eye color</th>\n",
       "      <th>Skin color</th>\n",
       "      <th>Measurements</th>\n",
       "    </tr>\n",
       "  </thead>\n",
       "  <tbody>\n",
       "    <tr>\n",
       "      <th>0</th>\n",
       "      <td>A-Bomb|Marvel Comics</td>\n",
       "      <td>Male</td>\n",
       "      <td>Human</td>\n",
       "      <td>good</td>\n",
       "      <td>No Hair</td>\n",
       "      <td>yellow</td>\n",
       "      <td>Unknown</td>\n",
       "      <td>{'Height': '203.0 cm', 'Weight': '441.0 kg'}</td>\n",
       "    </tr>\n",
       "    <tr>\n",
       "      <th>1</th>\n",
       "      <td>Abe Sapien|Dark Horse Comics</td>\n",
       "      <td>Male</td>\n",
       "      <td>Icthyo Sapien</td>\n",
       "      <td>good</td>\n",
       "      <td>No Hair</td>\n",
       "      <td>blue</td>\n",
       "      <td>blue</td>\n",
       "      <td>{'Height': '191.0 cm', 'Weight': '65.0 kg'}</td>\n",
       "    </tr>\n",
       "    <tr>\n",
       "      <th>2</th>\n",
       "      <td>Abin Sur|DC Comics</td>\n",
       "      <td>Male</td>\n",
       "      <td>Ungaran</td>\n",
       "      <td>good</td>\n",
       "      <td>No Hair</td>\n",
       "      <td>blue</td>\n",
       "      <td>red</td>\n",
       "      <td>{'Height': '185.0 cm', 'Weight': '90.0 kg'}</td>\n",
       "    </tr>\n",
       "    <tr>\n",
       "      <th>3</th>\n",
       "      <td>Abomination|Marvel Comics</td>\n",
       "      <td>Male</td>\n",
       "      <td>Human / Radiation</td>\n",
       "      <td>bad</td>\n",
       "      <td>No Hair</td>\n",
       "      <td>green</td>\n",
       "      <td>Unknown</td>\n",
       "      <td>{'Height': '203.0 cm', 'Weight': '441.0 kg'}</td>\n",
       "    </tr>\n",
       "    <tr>\n",
       "      <th>4</th>\n",
       "      <td>Absorbing Man|Marvel Comics</td>\n",
       "      <td>Male</td>\n",
       "      <td>Human</td>\n",
       "      <td>bad</td>\n",
       "      <td>No Hair</td>\n",
       "      <td>blue</td>\n",
       "      <td>Unknown</td>\n",
       "      <td>{'Height': '193.0 cm', 'Weight': '122.0 kg'}</td>\n",
       "    </tr>\n",
       "    <tr>\n",
       "      <th>...</th>\n",
       "      <td>...</td>\n",
       "      <td>...</td>\n",
       "      <td>...</td>\n",
       "      <td>...</td>\n",
       "      <td>...</td>\n",
       "      <td>...</td>\n",
       "      <td>...</td>\n",
       "      <td>...</td>\n",
       "    </tr>\n",
       "    <tr>\n",
       "      <th>458</th>\n",
       "      <td>Yellowjacket|Marvel Comics</td>\n",
       "      <td>Male</td>\n",
       "      <td>Human</td>\n",
       "      <td>good</td>\n",
       "      <td>Blond</td>\n",
       "      <td>blue</td>\n",
       "      <td>Unknown</td>\n",
       "      <td>{'Height': '183.0 cm', 'Weight': '83.0 kg'}</td>\n",
       "    </tr>\n",
       "    <tr>\n",
       "      <th>459</th>\n",
       "      <td>Yellowjacket II|Marvel Comics</td>\n",
       "      <td>Female</td>\n",
       "      <td>Human</td>\n",
       "      <td>good</td>\n",
       "      <td>Strawberry Blond</td>\n",
       "      <td>blue</td>\n",
       "      <td>Unknown</td>\n",
       "      <td>{'Height': '165.0 cm', 'Weight': '52.0 kg'}</td>\n",
       "    </tr>\n",
       "    <tr>\n",
       "      <th>460</th>\n",
       "      <td>Yoda|George Lucas</td>\n",
       "      <td>Male</td>\n",
       "      <td>Yoda's species</td>\n",
       "      <td>good</td>\n",
       "      <td>White</td>\n",
       "      <td>brown</td>\n",
       "      <td>green</td>\n",
       "      <td>{'Height': '66.0 cm', 'Weight': '17.0 kg'}</td>\n",
       "    </tr>\n",
       "    <tr>\n",
       "      <th>461</th>\n",
       "      <td>Zatanna|DC Comics</td>\n",
       "      <td>Female</td>\n",
       "      <td>Human</td>\n",
       "      <td>good</td>\n",
       "      <td>Black</td>\n",
       "      <td>blue</td>\n",
       "      <td>Unknown</td>\n",
       "      <td>{'Height': '170.0 cm', 'Weight': '57.0 kg'}</td>\n",
       "    </tr>\n",
       "    <tr>\n",
       "      <th>462</th>\n",
       "      <td>Zoom|DC Comics</td>\n",
       "      <td>Male</td>\n",
       "      <td>Unknown</td>\n",
       "      <td>bad</td>\n",
       "      <td>Brown</td>\n",
       "      <td>red</td>\n",
       "      <td>Unknown</td>\n",
       "      <td>{'Height': '185.0 cm', 'Weight': '81.0 kg'}</td>\n",
       "    </tr>\n",
       "  </tbody>\n",
       "</table>\n",
       "<p>463 rows × 8 columns</p>\n",
       "</div>"
      ],
      "text/plain": [
       "                    Hero|Publisher  Gender               Race Alignment  \\\n",
       "0             A-Bomb|Marvel Comics    Male              Human      good   \n",
       "1     Abe Sapien|Dark Horse Comics    Male      Icthyo Sapien      good   \n",
       "2               Abin Sur|DC Comics    Male            Ungaran      good   \n",
       "3        Abomination|Marvel Comics    Male  Human / Radiation       bad   \n",
       "4      Absorbing Man|Marvel Comics    Male              Human       bad   \n",
       "..                             ...     ...                ...       ...   \n",
       "458     Yellowjacket|Marvel Comics    Male              Human      good   \n",
       "459  Yellowjacket II|Marvel Comics  Female              Human      good   \n",
       "460              Yoda|George Lucas    Male     Yoda's species      good   \n",
       "461              Zatanna|DC Comics  Female              Human      good   \n",
       "462                 Zoom|DC Comics    Male            Unknown       bad   \n",
       "\n",
       "           Hair color Eye color Skin color  \\\n",
       "0             No Hair    yellow    Unknown   \n",
       "1             No Hair      blue       blue   \n",
       "2             No Hair      blue        red   \n",
       "3             No Hair     green    Unknown   \n",
       "4             No Hair      blue    Unknown   \n",
       "..                ...       ...        ...   \n",
       "458             Blond      blue    Unknown   \n",
       "459  Strawberry Blond      blue    Unknown   \n",
       "460             White     brown      green   \n",
       "461             Black      blue    Unknown   \n",
       "462             Brown       red    Unknown   \n",
       "\n",
       "                                     Measurements  \n",
       "0    {'Height': '203.0 cm', 'Weight': '441.0 kg'}  \n",
       "1     {'Height': '191.0 cm', 'Weight': '65.0 kg'}  \n",
       "2     {'Height': '185.0 cm', 'Weight': '90.0 kg'}  \n",
       "3    {'Height': '203.0 cm', 'Weight': '441.0 kg'}  \n",
       "4    {'Height': '193.0 cm', 'Weight': '122.0 kg'}  \n",
       "..                                            ...  \n",
       "458   {'Height': '183.0 cm', 'Weight': '83.0 kg'}  \n",
       "459   {'Height': '165.0 cm', 'Weight': '52.0 kg'}  \n",
       "460    {'Height': '66.0 cm', 'Weight': '17.0 kg'}  \n",
       "461   {'Height': '170.0 cm', 'Weight': '57.0 kg'}  \n",
       "462   {'Height': '185.0 cm', 'Weight': '81.0 kg'}  \n",
       "\n",
       "[463 rows x 8 columns]"
      ]
     },
     "execution_count": 35,
     "metadata": {},
     "output_type": "execute_result"
    }
   ],
   "source": [
    "heroes_df.to_csv(f\"{folder}superhero_info.csv\",index=False)\n",
    "df_h = pd.read_csv(f\"{folder}superhero_info.csv\")\n",
    "df_h"
   ]
  },
  {
   "cell_type": "code",
   "execution_count": 36,
   "id": "2ad8422c",
   "metadata": {
    "ExecuteTime": {
     "end_time": "2022-04-07T00:21:42.445476Z",
     "start_time": "2022-04-07T00:21:42.415800Z"
    }
   },
   "outputs": [
    {
     "data": {
      "text/html": [
       "<div>\n",
       "<style scoped>\n",
       "    .dataframe tbody tr th:only-of-type {\n",
       "        vertical-align: middle;\n",
       "    }\n",
       "\n",
       "    .dataframe tbody tr th {\n",
       "        vertical-align: top;\n",
       "    }\n",
       "\n",
       "    .dataframe thead th {\n",
       "        text-align: right;\n",
       "    }\n",
       "</style>\n",
       "<table border=\"1\" class=\"dataframe\">\n",
       "  <thead>\n",
       "    <tr style=\"text-align: right;\">\n",
       "      <th></th>\n",
       "      <th>hero_names</th>\n",
       "      <th>Powers</th>\n",
       "    </tr>\n",
       "  </thead>\n",
       "  <tbody>\n",
       "    <tr>\n",
       "      <th>0</th>\n",
       "      <td>3-D Man</td>\n",
       "      <td>Agility,Super Strength,Stamina,Super Speed</td>\n",
       "    </tr>\n",
       "    <tr>\n",
       "      <th>1</th>\n",
       "      <td>A-Bomb</td>\n",
       "      <td>Accelerated Healing,Durability,Longevity,Super...</td>\n",
       "    </tr>\n",
       "    <tr>\n",
       "      <th>2</th>\n",
       "      <td>Abe Sapien</td>\n",
       "      <td>Agility,Accelerated Healing,Cold Resistance,Du...</td>\n",
       "    </tr>\n",
       "    <tr>\n",
       "      <th>3</th>\n",
       "      <td>Abin Sur</td>\n",
       "      <td>Lantern Power Ring</td>\n",
       "    </tr>\n",
       "    <tr>\n",
       "      <th>4</th>\n",
       "      <td>Abomination</td>\n",
       "      <td>Accelerated Healing,Intelligence,Super Strengt...</td>\n",
       "    </tr>\n",
       "    <tr>\n",
       "      <th>...</th>\n",
       "      <td>...</td>\n",
       "      <td>...</td>\n",
       "    </tr>\n",
       "    <tr>\n",
       "      <th>662</th>\n",
       "      <td>Yellowjacket II</td>\n",
       "      <td>Flight,Energy Blasts,Size Changing</td>\n",
       "    </tr>\n",
       "    <tr>\n",
       "      <th>663</th>\n",
       "      <td>Ymir</td>\n",
       "      <td>Cold Resistance,Durability,Longevity,Super Str...</td>\n",
       "    </tr>\n",
       "    <tr>\n",
       "      <th>664</th>\n",
       "      <td>Yoda</td>\n",
       "      <td>Agility,Stealth,Danger Sense,Marksmanship,Weap...</td>\n",
       "    </tr>\n",
       "    <tr>\n",
       "      <th>665</th>\n",
       "      <td>Zatanna</td>\n",
       "      <td>Cryokinesis,Telepathy,Magic,Fire Control,Proba...</td>\n",
       "    </tr>\n",
       "    <tr>\n",
       "      <th>666</th>\n",
       "      <td>Zoom</td>\n",
       "      <td>Super Speed,Intangibility,Time Travel,Time Man...</td>\n",
       "    </tr>\n",
       "  </tbody>\n",
       "</table>\n",
       "<p>667 rows × 2 columns</p>\n",
       "</div>"
      ],
      "text/plain": [
       "          hero_names                                             Powers\n",
       "0            3-D Man         Agility,Super Strength,Stamina,Super Speed\n",
       "1             A-Bomb  Accelerated Healing,Durability,Longevity,Super...\n",
       "2         Abe Sapien  Agility,Accelerated Healing,Cold Resistance,Du...\n",
       "3           Abin Sur                                 Lantern Power Ring\n",
       "4        Abomination  Accelerated Healing,Intelligence,Super Strengt...\n",
       "..               ...                                                ...\n",
       "662  Yellowjacket II                 Flight,Energy Blasts,Size Changing\n",
       "663             Ymir  Cold Resistance,Durability,Longevity,Super Str...\n",
       "664             Yoda  Agility,Stealth,Danger Sense,Marksmanship,Weap...\n",
       "665          Zatanna  Cryokinesis,Telepathy,Magic,Fire Control,Proba...\n",
       "666             Zoom  Super Speed,Intangibility,Time Travel,Time Man...\n",
       "\n",
       "[667 rows x 2 columns]"
      ]
     },
     "execution_count": 36,
     "metadata": {},
     "output_type": "execute_result"
    }
   ],
   "source": [
    "powers_df.to_csv(f\"{folder}superhero_powers.csv\",index=False)\n",
    "\n",
    "df_p = pd.read_csv(f\"{folder}superhero_powers.csv\")\n",
    "df_p"
   ]
  },
  {
   "cell_type": "markdown",
   "id": "df8b2586",
   "metadata": {},
   "source": [
    "# SEE `Applying Advanced Transformations (CORE).ipynb` for ASSIGNMENT + SOLUTION\n",
    "\n",
    "<!-- # Assignment\n",
    "\n",
    "## Practicing Advanced Transformations with Super Heroes\n",
    "\n",
    "We will be using a heavily modified version of the Superheroes dataset from Kaggle: https://www.kaggle.com/datasets/claudiodavi/superhero-set\n",
    "\n",
    "- The dataset includes 3 csv's:\n",
    "    1. superhero_info.csv: Name, Publisher, Demographic Info and Body measurements.\n",
    "    2. superhero_powers.csv: Hero ID and list of powers.\n",
    "    3. superhero_names.csv: Hero ID and Hero Name lookup\n",
    "    \n",
    "    \n",
    "Your task is two-fold:\n",
    "- **I. Clean the files and combine into 1 final dataframe.**\n",
    "    - This dataframe should have the following columns:\n",
    "        - Name\n",
    "        - Publisher\n",
    "        - Gender\n",
    "        - Eye color\n",
    "        - Race\n",
    "        - Hair color\n",
    "        - Height\n",
    "        - Skin color\n",
    "        - Alignment\n",
    "        - Weight\n",
    "        - Plus one-hot-encoded columns for every power that appears in the dataset. <br>E.g.:\n",
    "            - Agility\n",
    "            - Flight\n",
    "            - Superspeed\n",
    "            - etc.\n",
    "\n",
    "\n",
    "- **II. Use your combined dataframe to answer the following questions.**\n",
    "    1. What are the top 3 most common powers?\n",
    "    2. What is the average height for each Gender?\n",
    "    3. What is the average height of heroes for each publisher?\n",
    "    4. What is the average weight for each Alignment?\n",
    "    5. How many heroes have the word \"man\" in their names? \n",
    "\n",
    " -->"
   ]
  },
  {
   "cell_type": "code",
   "execution_count": null,
   "id": "7fe6fa26",
   "metadata": {},
   "outputs": [],
   "source": [
    "raise Exception('See the notebook in the header above for the solution.')"
   ]
  },
  {
   "cell_type": "markdown",
   "id": "daaf40ef",
   "metadata": {},
   "source": [
    "# Previous Solution"
   ]
  },
  {
   "cell_type": "code",
   "execution_count": null,
   "id": "acb1b3ee",
   "metadata": {
    "ExecuteTime": {
     "end_time": "2022-04-07T00:21:17.745408Z",
     "start_time": "2022-04-07T00:21:17.745401Z"
    }
   },
   "outputs": [],
   "source": [
    "import pandas as pd\n",
    "import numpy as np\n",
    "import matplotlib.pyplot as plt\n",
    "import seaborn as sns\n",
    "import os"
   ]
  },
  {
   "cell_type": "code",
   "execution_count": null,
   "id": "3755fc7f",
   "metadata": {
    "ExecuteTime": {
     "end_time": "2022-04-07T00:21:17.746003Z",
     "start_time": "2022-04-07T00:21:17.745995Z"
    }
   },
   "outputs": [],
   "source": [
    "folder = \"Superheroes_Core/\"\n",
    "os.listdir(folder)"
   ]
  },
  {
   "cell_type": "code",
   "execution_count": null,
   "id": "8175a781",
   "metadata": {
    "ExecuteTime": {
     "end_time": "2022-04-07T00:21:17.746648Z",
     "start_time": "2022-04-07T00:21:17.746640Z"
    }
   },
   "outputs": [],
   "source": [
    "powers_df = pd.read_csv(folder+'superhero_powers.csv')\n",
    "powers_df.info()\n",
    "powers_df.head(3)"
   ]
  },
  {
   "cell_type": "code",
   "execution_count": null,
   "id": "c39ba456",
   "metadata": {
    "ExecuteTime": {
     "end_time": "2022-04-07T00:21:17.747375Z",
     "start_time": "2022-04-07T00:21:17.747368Z"
    }
   },
   "outputs": [],
   "source": [
    "heroes_df = pd.read_csv(folder+'superhero_info.csv')\n",
    "heroes_df.info()\n",
    "heroes_df.head(3)"
   ]
  },
  {
   "cell_type": "markdown",
   "id": "06cbe086",
   "metadata": {},
   "source": [
    "## Cleaning the DataFrames"
   ]
  },
  {
   "cell_type": "markdown",
   "id": "4074d122",
   "metadata": {},
   "source": [
    "### Hero Info"
   ]
  },
  {
   "cell_type": "code",
   "execution_count": null,
   "id": "982d604d",
   "metadata": {
    "ExecuteTime": {
     "end_time": "2022-04-07T00:21:17.748444Z",
     "start_time": "2022-04-07T00:21:17.748435Z"
    }
   },
   "outputs": [],
   "source": [
    "heroes_df"
   ]
  },
  {
   "cell_type": "markdown",
   "id": "ec815c23",
   "metadata": {},
   "source": [
    "- Things to fix:\n",
    "    - Separate Hero and Publisher\n",
    "    - Convert columns of dictionaries into separate columns\n",
    "    - Make sure Measurements are numeric so averages can be calculated."
   ]
  },
  {
   "cell_type": "code",
   "execution_count": null,
   "id": "2693769b",
   "metadata": {
    "ExecuteTime": {
     "end_time": "2022-04-07T00:21:17.749426Z",
     "start_time": "2022-04-07T00:21:17.749418Z"
    }
   },
   "outputs": [],
   "source": [
    "## separate hero and publisher\n",
    "heroes_df[['Hero','Publisher']]  = heroes_df['Hero|Publisher'].str.split(\"|\",expand=True)\n",
    "heroes_df = heroes_df.drop(columns=['Hero|Publisher'])\n",
    "heroes_df"
   ]
  },
  {
   "cell_type": "markdown",
   "id": "1c8ec53e",
   "metadata": {},
   "source": [
    "- Convert string-dictionary columns into actual dictionaries:\n",
    "    - Replace all single quotes with double quotes in the dictionary columns\n",
    "    - Use json.loads\n"
   ]
  },
  {
   "cell_type": "code",
   "execution_count": null,
   "id": "176f6d1c",
   "metadata": {
    "ExecuteTime": {
     "end_time": "2022-04-07T00:21:17.750416Z",
     "start_time": "2022-04-07T00:21:17.750407Z"
    }
   },
   "outputs": [],
   "source": [
    "heroes_df.loc[0,'Colors']"
   ]
  },
  {
   "cell_type": "code",
   "execution_count": null,
   "id": "94704c3d",
   "metadata": {
    "ExecuteTime": {
     "end_time": "2022-04-07T00:21:17.751198Z",
     "start_time": "2022-04-07T00:21:17.751191Z"
    }
   },
   "outputs": [],
   "source": [
    "## convert string-dict columns to actual dicts\n",
    "import json"
   ]
  },
  {
   "cell_type": "code",
   "execution_count": null,
   "id": "c709c79d",
   "metadata": {
    "ExecuteTime": {
     "end_time": "2022-04-07T00:21:17.751821Z",
     "start_time": "2022-04-07T00:21:17.751812Z"
    }
   },
   "outputs": [],
   "source": [
    "## Clean and separate Colors\n",
    "heroes_df['Colors'] = heroes_df['Colors'].str.replace(\"'\",'\"')\n",
    "heroes_df['Colors'] = heroes_df[\"Colors\"].apply(json.loads)\n",
    "\n",
    "heroes_df = pd.concat([heroes_df.drop(columns='Colors'),\n",
    "                       heroes_df['Colors'].apply(pd.Series)],\n",
    "                      axis=1)\n",
    "heroes_df"
   ]
  },
  {
   "cell_type": "code",
   "execution_count": null,
   "id": "d31a08e9",
   "metadata": {
    "ExecuteTime": {
     "end_time": "2022-04-07T00:21:17.752655Z",
     "start_time": "2022-04-07T00:21:17.752647Z"
    }
   },
   "outputs": [],
   "source": [
    "## Clean and separate Measurements\n",
    "heroes_df['Measurements'] = heroes_df['Measurements'].str.replace(\"'\",'\"')\n",
    "heroes_df['Measurements'] = heroes_df[\"Measurements\"].apply(json.loads)\n",
    "\n",
    "heroes_df = pd.concat([heroes_df.drop(columns='Measurements'),\n",
    "                       heroes_df['Measurements'].apply(pd.Series)],\n",
    "                      axis=1)\n",
    "heroes_df"
   ]
  },
  {
   "cell_type": "code",
   "execution_count": null,
   "id": "f99153c5",
   "metadata": {
    "ExecuteTime": {
     "end_time": "2022-04-07T00:21:17.753298Z",
     "start_time": "2022-04-07T00:21:17.753290Z"
    }
   },
   "outputs": [],
   "source": [
    "## remove 'cm' and 'kg' to conver measurement cols to numeric\n",
    "heroes_df['Height'] = heroes_df['Height'].str.replace(' cm','')\n",
    "heroes_df['Height'] = heroes_df['Height'].astype(float)\n",
    "heroes_df"
   ]
  },
  {
   "cell_type": "code",
   "execution_count": null,
   "id": "44d30b8a",
   "metadata": {
    "ExecuteTime": {
     "end_time": "2022-04-07T00:21:17.754028Z",
     "start_time": "2022-04-07T00:21:17.754021Z"
    }
   },
   "outputs": [],
   "source": [
    "## remove 'cm' and 'kg' to conver measurement cols to numeric\n",
    "heroes_df['Weight'] = heroes_df['Weight'].str.replace(' kg','')\n",
    "heroes_df['Weight'] = heroes_df['Weight'].astype(float)\n",
    "heroes_df"
   ]
  },
  {
   "cell_type": "code",
   "execution_count": null,
   "id": "d587b112",
   "metadata": {
    "ExecuteTime": {
     "end_time": "2022-04-07T00:21:17.755187Z",
     "start_time": "2022-04-07T00:21:17.755172Z"
    }
   },
   "outputs": [],
   "source": [
    "heroes_df"
   ]
  },
  {
   "cell_type": "markdown",
   "id": "e4cc4afc",
   "metadata": {},
   "source": [
    "### Cleaning Powers_df"
   ]
  },
  {
   "cell_type": "code",
   "execution_count": null,
   "id": "7ea1fff3",
   "metadata": {
    "ExecuteTime": {
     "end_time": "2022-04-07T00:21:17.756187Z",
     "start_time": "2022-04-07T00:21:17.756179Z"
    }
   },
   "outputs": [],
   "source": [
    "powers_df"
   ]
  },
  {
   "cell_type": "markdown",
   "id": "fbfe21ba",
   "metadata": {},
   "source": [
    "- To make One Hot encoded powers, must first get list of unique powers."
   ]
  },
  {
   "cell_type": "code",
   "execution_count": null,
   "id": "f89b4283",
   "metadata": {
    "ExecuteTime": {
     "end_time": "2022-04-07T00:21:17.757363Z",
     "start_time": "2022-04-07T00:21:17.757355Z"
    }
   },
   "outputs": [],
   "source": [
    "## Use .split to make Powers a list of powers\n",
    "powers_df['Powers_split'] =powers_df['Powers'].str.split(',')\n",
    "powers_df"
   ]
  },
  {
   "cell_type": "code",
   "execution_count": null,
   "id": "8f401ab7",
   "metadata": {
    "ExecuteTime": {
     "end_time": "2022-04-07T00:21:17.758057Z",
     "start_time": "2022-04-07T00:21:17.758049Z"
    }
   },
   "outputs": [],
   "source": [
    "explode_powers = powers_df.explode('Powers_split')\n",
    "unique_powers = explode_powers['Powers_split'].unique()\n",
    "unique_powers"
   ]
  },
  {
   "cell_type": "code",
   "execution_count": null,
   "id": "e80e0ef1",
   "metadata": {
    "ExecuteTime": {
     "end_time": "2022-04-07T00:21:17.758800Z",
     "start_time": "2022-04-07T00:21:17.758792Z"
    }
   },
   "outputs": [],
   "source": [
    "## use a loop and .str.contains to create one hot encoded powers\n",
    "for power in unique_powers:\n",
    "    powers_df[power] = powers_df['Powers'].str.contains(power)\n",
    "powers_df"
   ]
  },
  {
   "cell_type": "code",
   "execution_count": null,
   "id": "6ef40771",
   "metadata": {
    "ExecuteTime": {
     "end_time": "2022-04-07T00:21:17.759811Z",
     "start_time": "2022-04-07T00:21:17.759803Z"
    }
   },
   "outputs": [],
   "source": [
    "powers_df = powers_df.drop(columns=['Powers','Powers_split'])\n",
    "powers_df"
   ]
  },
  {
   "cell_type": "markdown",
   "id": "5fb614ce",
   "metadata": {},
   "source": [
    "### Merge DataFrames"
   ]
  },
  {
   "cell_type": "code",
   "execution_count": null,
   "id": "717ddb89",
   "metadata": {
    "ExecuteTime": {
     "end_time": "2022-04-07T00:21:17.760396Z",
     "start_time": "2022-04-07T00:21:17.760389Z"
    }
   },
   "outputs": [],
   "source": [
    "heroes_df"
   ]
  },
  {
   "cell_type": "code",
   "execution_count": null,
   "id": "42214346",
   "metadata": {
    "ExecuteTime": {
     "end_time": "2022-04-07T00:21:17.761415Z",
     "start_time": "2022-04-07T00:21:17.761400Z"
    }
   },
   "outputs": [],
   "source": [
    "df = pd.merge(heroes_df, powers_df, left_on='Hero', right_on='hero_names')\n",
    "df"
   ]
  },
  {
   "cell_type": "markdown",
   "id": "927f60ae",
   "metadata": {},
   "source": [
    "## EDA "
   ]
  },
  {
   "cell_type": "markdown",
   "id": "42e9c3b5",
   "metadata": {},
   "source": [
    "- Questions to Answer:\n",
    "    1. What is the most common power?\n",
    "    2. What is the average height for each Gender?\n",
    "    3. What is the average height of heroes for each publisher?\n",
    "    4. What is the average weight for each Alignment?\n",
    "    5. How many heroes have the word \"man\" in their names? \n"
   ]
  },
  {
   "cell_type": "markdown",
   "id": "39ba3e6d",
   "metadata": {},
   "source": [
    "### 1. What is the most common power?"
   ]
  },
  {
   "cell_type": "code",
   "execution_count": null,
   "id": "b15d26e7",
   "metadata": {
    "ExecuteTime": {
     "end_time": "2022-04-07T00:21:17.762171Z",
     "start_time": "2022-04-07T00:21:17.762164Z"
    }
   },
   "outputs": [],
   "source": [
    "df[unique_powers].sum().sort_values(ascending=False).head(3)"
   ]
  },
  {
   "cell_type": "markdown",
   "id": "77dec9c3",
   "metadata": {},
   "source": [
    "- The 3 most common powers are Super Strenght, Stamina, and Durability."
   ]
  },
  {
   "cell_type": "markdown",
   "id": "8781ad26",
   "metadata": {},
   "source": [
    "### 2. What is the average height for each Gender?"
   ]
  },
  {
   "cell_type": "code",
   "execution_count": null,
   "id": "b8adbd4b",
   "metadata": {
    "ExecuteTime": {
     "end_time": "2022-04-07T00:21:17.762909Z",
     "start_time": "2022-04-07T00:21:17.762902Z"
    }
   },
   "outputs": [],
   "source": [
    "## using pandas\n",
    "df.groupby('Gender')['Height'].mean()"
   ]
  },
  {
   "cell_type": "code",
   "execution_count": null,
   "id": "f5ff216a",
   "metadata": {
    "ExecuteTime": {
     "end_time": "2022-04-07T00:21:17.763686Z",
     "start_time": "2022-04-07T00:21:17.763679Z"
    }
   },
   "outputs": [],
   "source": [
    "## or using visualizatons\n",
    "sns.barplot(data=df, x='Gender',y='Height')"
   ]
  },
  {
   "cell_type": "markdown",
   "id": "34847de6",
   "metadata": {},
   "source": [
    "### 3. What is the average height of heroes for each publisher?"
   ]
  },
  {
   "cell_type": "code",
   "execution_count": null,
   "id": "4f7b921a",
   "metadata": {
    "ExecuteTime": {
     "end_time": "2022-04-07T00:21:17.764681Z",
     "start_time": "2022-04-07T00:21:17.764670Z"
    }
   },
   "outputs": [],
   "source": [
    "## using pandas\n",
    "df.groupby(\"Publisher\")['Height'].mean().sort_values()"
   ]
  },
  {
   "cell_type": "code",
   "execution_count": null,
   "id": "8a22fd63",
   "metadata": {
    "ExecuteTime": {
     "end_time": "2022-04-07T00:21:17.765413Z",
     "start_time": "2022-04-07T00:21:17.765405Z"
    }
   },
   "outputs": [],
   "source": [
    "## using visualziations\n",
    "ax = sns.barplot(data=df, y='Publisher',x='Height')\n",
    "# ax.set_xticklabels( ax.get_xticklabels(),rotation=45, ha='right')"
   ]
  },
  {
   "cell_type": "markdown",
   "id": "ac959f67",
   "metadata": {},
   "source": [
    "### 4. What is the average weight for each Alignment?"
   ]
  },
  {
   "cell_type": "code",
   "execution_count": null,
   "id": "deb6951d",
   "metadata": {
    "ExecuteTime": {
     "end_time": "2022-04-07T00:21:17.766206Z",
     "start_time": "2022-04-07T00:21:17.766198Z"
    }
   },
   "outputs": [],
   "source": [
    "## using pandas\n",
    "df.groupby('Alignment')['Weight'].mean()"
   ]
  },
  {
   "cell_type": "code",
   "execution_count": null,
   "id": "ad331b7a",
   "metadata": {
    "ExecuteTime": {
     "end_time": "2022-04-07T00:21:17.767090Z",
     "start_time": "2022-04-07T00:21:17.767082Z"
    }
   },
   "outputs": [],
   "source": [
    "## using visuals\n",
    "sns.barplot(data=df,x='Alignment',y='Weight')"
   ]
  },
  {
   "cell_type": "markdown",
   "id": "3bf124f7",
   "metadata": {},
   "source": [
    "### 5. How many heroes have the word \"man\" in their names?"
   ]
  },
  {
   "cell_type": "code",
   "execution_count": null,
   "id": "02edc0d4",
   "metadata": {
    "ExecuteTime": {
     "end_time": "2022-04-07T00:21:17.768113Z",
     "start_time": "2022-04-07T00:21:17.768104Z"
    }
   },
   "outputs": [],
   "source": [
    "df['Hero'].str.contains('man',case=False).value_counts()"
   ]
  },
  {
   "cell_type": "markdown",
   "id": "2021a5c5",
   "metadata": {},
   "source": [
    "- 42 heroes"
   ]
  },
  {
   "cell_type": "code",
   "execution_count": null,
   "id": "b11d8fbe",
   "metadata": {},
   "outputs": [],
   "source": []
  }
 ],
 "metadata": {
  "kernelspec": {
   "display_name": "Python (dojo-env)",
   "language": "python",
   "name": "dojo-env"
  },
  "language_info": {
   "codemirror_mode": {
    "name": "ipython",
    "version": 3
   },
   "file_extension": ".py",
   "mimetype": "text/x-python",
   "name": "python",
   "nbconvert_exporter": "python",
   "pygments_lexer": "ipython3",
   "version": "3.8.13"
  },
  "toc": {
   "base_numbering": 1,
   "nav_menu": {},
   "number_sections": false,
   "sideBar": true,
   "skip_h1_title": false,
   "title_cell": "Table of Contents",
   "title_sidebar": "Contents",
   "toc_cell": false,
   "toc_position": {
    "height": "calc(100% - 180px)",
    "left": "10px",
    "top": "150px",
    "width": "299.195px"
   },
   "toc_section_display": true,
   "toc_window_display": true
  }
 },
 "nbformat": 4,
 "nbformat_minor": 5
}
